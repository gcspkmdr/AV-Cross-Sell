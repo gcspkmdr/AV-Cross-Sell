{
 "cells": [
  {
   "cell_type": "code",
   "execution_count": 1,
   "metadata": {
    "_cell_guid": "b1076dfc-b9ad-4769-8c92-a6c4dae69d19",
    "_uuid": "8f2839f25d086af736a60e9eeb907d3b93b6e0e5",
    "execution": {
     "iopub.execute_input": "2020-09-21T03:05:32.628688Z",
     "iopub.status.busy": "2020-09-21T03:05:32.628021Z",
     "iopub.status.idle": "2020-09-21T03:05:32.708289Z",
     "shell.execute_reply": "2020-09-21T03:05:32.709103Z"
    },
    "papermill": {
     "duration": 0.106598,
     "end_time": "2020-09-21T03:05:32.709357",
     "exception": false,
     "start_time": "2020-09-21T03:05:32.602759",
     "status": "completed"
    },
    "tags": []
   },
   "outputs": [
    {
     "name": "stdout",
     "output_type": "stream",
     "text": [
      "/kaggle/input/cross-sell-cb-432/probs_432_3_2.csv\n",
      "/kaggle/input/cross-sell-cb-432/probs_432_1_2.csv\n",
      "/kaggle/input/cross-sell-cb-432/probs_432_1_4.csv\n",
      "/kaggle/input/cross-sell-cb-432/probs_432_2_2.csv\n",
      "/kaggle/input/cross-sell-cb-432/probs_432_0_4.csv\n",
      "/kaggle/input/cross-sell-cb-432/probs_432_3_0.csv\n",
      "/kaggle/input/cross-sell-cb-432/probs_432_2_4.csv\n",
      "/kaggle/input/cross-sell-cb-432/probs_432_3_1.csv\n",
      "/kaggle/input/cross-sell-cb-432/probs_432_0_0.csv\n",
      "/kaggle/input/cross-sell-cb-432/probs_432_0_2.csv\n",
      "/kaggle/input/cross-sell-cb-432/model_stats.csv\n",
      "/kaggle/input/cross-sell-cb-432/probs_432_2_1.csv\n",
      "/kaggle/input/cross-sell-cb-432/probs_432_4_0.csv\n",
      "/kaggle/input/cross-sell-cb-432/custom.css\n",
      "/kaggle/input/cross-sell-cb-432/__notebook__.ipynb\n",
      "/kaggle/input/cross-sell-cb-432/probs_432_1_0.csv\n",
      "/kaggle/input/cross-sell-cb-432/probs_432_3_4.csv\n",
      "/kaggle/input/cross-sell-cb-432/probs_432_2_3.csv\n",
      "/kaggle/input/cross-sell-cb-432/__results__.html\n",
      "/kaggle/input/cross-sell-cb-432/__output__.json\n",
      "/kaggle/input/cross-sell-cb-432/probs_432_4_4.csv\n",
      "/kaggle/input/cross-sell-cb-432/probs_432_0_1.csv\n",
      "/kaggle/input/cross-sell-cb-432/probs_432_0_3.csv\n",
      "/kaggle/input/cross-sell-cb-432/probs_432_1_3.csv\n",
      "/kaggle/input/cross-sell-cb-432/probs_432_1_1.csv\n",
      "/kaggle/input/cross-sell-cb-432/probs.csv\n",
      "/kaggle/input/cross-sell-cb-432/probs_432_4_2.csv\n",
      "/kaggle/input/cross-sell-cb-432/probs_432_4_1.csv\n",
      "/kaggle/input/cross-sell-cb-432/probs_432_2_0.csv\n",
      "/kaggle/input/cross-sell-cb-432/probs_432_3_3.csv\n",
      "/kaggle/input/cross-sell-cb-432/probs_432_4_3.csv\n",
      "/kaggle/input/cross-sell-cb-432/__results___files/__results___8_1.png\n",
      "/kaggle/input/cross-sell-cb-432/__results___files/__results___6_1.png\n",
      "/kaggle/input/cross-sell-cb-432/catboost_info/learn_error.tsv\n",
      "/kaggle/input/cross-sell-cb-432/catboost_info/test_error.tsv\n",
      "/kaggle/input/cross-sell-cb-432/catboost_info/catboost_training.json\n",
      "/kaggle/input/cross-sell-cb-432/catboost_info/time_left.tsv\n",
      "/kaggle/input/cross-sell-cb-432/catboost_info/test/events.out.tfevents\n",
      "/kaggle/input/cross-sell-cb-432/catboost_info/learn/events.out.tfevents\n",
      "/kaggle/input/avcrosssell/train.csv\n",
      "/kaggle/input/avcrosssell/test.csv\n",
      "/kaggle/input/avcrosssell/sample_submission.csv\n",
      "/kaggle/input/cross-sell-cb-73/probs_73_2_0.csv\n",
      "/kaggle/input/cross-sell-cb-73/probs_73_1_2.csv\n",
      "/kaggle/input/cross-sell-cb-73/probs_73_2_4.csv\n",
      "/kaggle/input/cross-sell-cb-73/probs_73_4_0.csv\n",
      "/kaggle/input/cross-sell-cb-73/probs_73_1_4.csv\n",
      "/kaggle/input/cross-sell-cb-73/probs_73_0_4.csv\n",
      "/kaggle/input/cross-sell-cb-73/probs_73_0_1.csv\n",
      "/kaggle/input/cross-sell-cb-73/probs_73_0_2.csv\n",
      "/kaggle/input/cross-sell-cb-73/probs_73_4_1.csv\n",
      "/kaggle/input/cross-sell-cb-73/model_stats.csv\n",
      "/kaggle/input/cross-sell-cb-73/probs_73_4_4.csv\n",
      "/kaggle/input/cross-sell-cb-73/probs_73_4_2.csv\n",
      "/kaggle/input/cross-sell-cb-73/probs_73_3_0.csv\n",
      "/kaggle/input/cross-sell-cb-73/custom.css\n",
      "/kaggle/input/cross-sell-cb-73/__notebook__.ipynb\n",
      "/kaggle/input/cross-sell-cb-73/probs_73_0_3.csv\n",
      "/kaggle/input/cross-sell-cb-73/probs_73_0_0.csv\n",
      "/kaggle/input/cross-sell-cb-73/probs_73_3_4.csv\n",
      "/kaggle/input/cross-sell-cb-73/__results__.html\n",
      "/kaggle/input/cross-sell-cb-73/__output__.json\n",
      "/kaggle/input/cross-sell-cb-73/probs_73_3_1.csv\n",
      "/kaggle/input/cross-sell-cb-73/probs_73_1_0.csv\n",
      "/kaggle/input/cross-sell-cb-73/probs_73_2_3.csv\n",
      "/kaggle/input/cross-sell-cb-73/probs_73_2_2.csv\n",
      "/kaggle/input/cross-sell-cb-73/probs.csv\n",
      "/kaggle/input/cross-sell-cb-73/probs_73_1_1.csv\n",
      "/kaggle/input/cross-sell-cb-73/probs_73_4_3.csv\n",
      "/kaggle/input/cross-sell-cb-73/probs_73_3_2.csv\n",
      "/kaggle/input/cross-sell-cb-73/probs_73_2_1.csv\n",
      "/kaggle/input/cross-sell-cb-73/probs_73_3_3.csv\n",
      "/kaggle/input/cross-sell-cb-73/probs_73_1_3.csv\n",
      "/kaggle/input/cross-sell-cb-73/__results___files/__results___8_1.png\n",
      "/kaggle/input/cross-sell-cb-73/__results___files/__results___6_1.png\n",
      "/kaggle/input/cross-sell-cb-73/catboost_info/learn_error.tsv\n",
      "/kaggle/input/cross-sell-cb-73/catboost_info/test_error.tsv\n",
      "/kaggle/input/cross-sell-cb-73/catboost_info/catboost_training.json\n",
      "/kaggle/input/cross-sell-cb-73/catboost_info/time_left.tsv\n",
      "/kaggle/input/cross-sell-cb-73/catboost_info/test/events.out.tfevents\n",
      "/kaggle/input/cross-sell-cb-73/catboost_info/learn/events.out.tfevents\n",
      "/kaggle/input/cross-sell-cb-2/probs_2_1_4.csv\n",
      "/kaggle/input/cross-sell-cb-2/probs_2_3_1.csv\n",
      "/kaggle/input/cross-sell-cb-2/probs_2_2_0.csv\n",
      "/kaggle/input/cross-sell-cb-2/probs_2_2_1.csv\n",
      "/kaggle/input/cross-sell-cb-2/probs_2_4_3.csv\n",
      "/kaggle/input/cross-sell-cb-2/probs_2_1_0.csv\n",
      "/kaggle/input/cross-sell-cb-2/probs_2_2_4.csv\n",
      "/kaggle/input/cross-sell-cb-2/model_stats.csv\n",
      "/kaggle/input/cross-sell-cb-2/probs_2_4_2.csv\n",
      "/kaggle/input/cross-sell-cb-2/probs_2_3_3.csv\n",
      "/kaggle/input/cross-sell-cb-2/custom.css\n",
      "/kaggle/input/cross-sell-cb-2/__notebook__.ipynb\n",
      "/kaggle/input/cross-sell-cb-2/probs_2_0_3.csv\n",
      "/kaggle/input/cross-sell-cb-2/probs_2_1_3.csv\n",
      "/kaggle/input/cross-sell-cb-2/probs_2_3_4.csv\n",
      "/kaggle/input/cross-sell-cb-2/probs_2_1_2.csv\n",
      "/kaggle/input/cross-sell-cb-2/probs_2_2_3.csv\n",
      "/kaggle/input/cross-sell-cb-2/__results__.html\n",
      "/kaggle/input/cross-sell-cb-2/__output__.json\n",
      "/kaggle/input/cross-sell-cb-2/probs_2_0_1.csv\n",
      "/kaggle/input/cross-sell-cb-2/probs_2_2_2.csv\n",
      "/kaggle/input/cross-sell-cb-2/probs_2_3_2.csv\n",
      "/kaggle/input/cross-sell-cb-2/probs.csv\n",
      "/kaggle/input/cross-sell-cb-2/probs_2_0_0.csv\n",
      "/kaggle/input/cross-sell-cb-2/probs_2_4_1.csv\n",
      "/kaggle/input/cross-sell-cb-2/probs_2_4_4.csv\n",
      "/kaggle/input/cross-sell-cb-2/probs_2_0_2.csv\n",
      "/kaggle/input/cross-sell-cb-2/probs_2_0_4.csv\n",
      "/kaggle/input/cross-sell-cb-2/probs_2_1_1.csv\n",
      "/kaggle/input/cross-sell-cb-2/probs_2_4_0.csv\n",
      "/kaggle/input/cross-sell-cb-2/probs_2_3_0.csv\n",
      "/kaggle/input/cross-sell-cb-2/__results___files/__results___8_1.png\n",
      "/kaggle/input/cross-sell-cb-2/__results___files/__results___6_1.png\n",
      "/kaggle/input/cross-sell-cb-2/catboost_info/learn_error.tsv\n",
      "/kaggle/input/cross-sell-cb-2/catboost_info/test_error.tsv\n",
      "/kaggle/input/cross-sell-cb-2/catboost_info/catboost_training.json\n",
      "/kaggle/input/cross-sell-cb-2/catboost_info/time_left.tsv\n",
      "/kaggle/input/cross-sell-cb-2/catboost_info/test/events.out.tfevents\n",
      "/kaggle/input/cross-sell-cb-2/catboost_info/learn/events.out.tfevents\n",
      "/kaggle/input/cross-sell-xgboost/probs_73_2_0.csv\n",
      "/kaggle/input/cross-sell-xgboost/probs_5_2_0.csv\n",
      "/kaggle/input/cross-sell-xgboost/probs_73_1_2.csv\n",
      "/kaggle/input/cross-sell-xgboost/probs_432_3_2.csv\n",
      "/kaggle/input/cross-sell-xgboost/probs_73_2_4.csv\n",
      "/kaggle/input/cross-sell-xgboost/probs_73_4_0.csv\n",
      "/kaggle/input/cross-sell-xgboost/probs_5_3_3.csv\n",
      "/kaggle/input/cross-sell-xgboost/probs_432_1_2.csv\n",
      "/kaggle/input/cross-sell-xgboost/probs_432_1_4.csv\n",
      "/kaggle/input/cross-sell-xgboost/probs_5_1_1.csv\n",
      "/kaggle/input/cross-sell-xgboost/probs_2_1_4.csv\n",
      "/kaggle/input/cross-sell-xgboost/probs_2_3_1.csv\n",
      "/kaggle/input/cross-sell-xgboost/probs_5_0_1.csv\n",
      "/kaggle/input/cross-sell-xgboost/probs_432_2_2.csv\n",
      "/kaggle/input/cross-sell-xgboost/probs_5_3_1.csv\n",
      "/kaggle/input/cross-sell-xgboost/probs_73_1_4.csv\n",
      "/kaggle/input/cross-sell-xgboost/probs_73_0_4.csv\n",
      "/kaggle/input/cross-sell-xgboost/probs_73_0_1.csv\n",
      "/kaggle/input/cross-sell-xgboost/probs_2_2_0.csv\n",
      "/kaggle/input/cross-sell-xgboost/probs_2_2_1.csv\n",
      "/kaggle/input/cross-sell-xgboost/probs_2_4_3.csv\n",
      "/kaggle/input/cross-sell-xgboost/probs_2_1_0.csv\n",
      "/kaggle/input/cross-sell-xgboost/probs_5_0_0.csv\n",
      "/kaggle/input/cross-sell-xgboost/probs_432_0_4.csv\n",
      "/kaggle/input/cross-sell-xgboost/probs_432_3_0.csv\n",
      "/kaggle/input/cross-sell-xgboost/probs_432_2_4.csv\n",
      "/kaggle/input/cross-sell-xgboost/probs_73_0_2.csv\n",
      "/kaggle/input/cross-sell-xgboost/probs_73_4_1.csv\n",
      "/kaggle/input/cross-sell-xgboost/probs_432_3_1.csv\n",
      "/kaggle/input/cross-sell-xgboost/probs_32_2_2.csv\n",
      "/kaggle/input/cross-sell-xgboost/probs_5_3_4.csv\n",
      "/kaggle/input/cross-sell-xgboost/probs_2_2_4.csv\n",
      "/kaggle/input/cross-sell-xgboost/probs_5_0_3.csv\n",
      "/kaggle/input/cross-sell-xgboost/probs_432_0_0.csv\n",
      "/kaggle/input/cross-sell-xgboost/probs_32_2_3.csv\n",
      "/kaggle/input/cross-sell-xgboost/probs_32_4_3.csv\n",
      "/kaggle/input/cross-sell-xgboost/probs_432_0_2.csv\n",
      "/kaggle/input/cross-sell-xgboost/probs_5_4_3.csv\n",
      "/kaggle/input/cross-sell-xgboost/probs_5_1_3.csv\n",
      "/kaggle/input/cross-sell-xgboost/model_stats.csv\n",
      "/kaggle/input/cross-sell-xgboost/probs_32_2_0.csv\n",
      "/kaggle/input/cross-sell-xgboost/probs_73_4_4.csv\n",
      "/kaggle/input/cross-sell-xgboost/probs_73_4_2.csv\n",
      "/kaggle/input/cross-sell-xgboost/probs_2_4_2.csv\n",
      "/kaggle/input/cross-sell-xgboost/probs_5_3_2.csv\n",
      "/kaggle/input/cross-sell-xgboost/probs_432_2_1.csv\n",
      "/kaggle/input/cross-sell-xgboost/probs_32_3_0.csv\n",
      "/kaggle/input/cross-sell-xgboost/probs_2_3_3.csv\n",
      "/kaggle/input/cross-sell-xgboost/probs_32_4_0.csv\n",
      "/kaggle/input/cross-sell-xgboost/probs_32_0_0.csv\n",
      "/kaggle/input/cross-sell-xgboost/probs_73_3_0.csv\n",
      "/kaggle/input/cross-sell-xgboost/probs_5_2_2.csv\n",
      "/kaggle/input/cross-sell-xgboost/probs_5_4_1.csv\n",
      "/kaggle/input/cross-sell-xgboost/probs_432_4_0.csv\n",
      "/kaggle/input/cross-sell-xgboost/probs_32_1_4.csv\n",
      "/kaggle/input/cross-sell-xgboost/custom.css\n",
      "/kaggle/input/cross-sell-xgboost/__notebook__.ipynb\n",
      "/kaggle/input/cross-sell-xgboost/probs_32_1_0.csv\n",
      "/kaggle/input/cross-sell-xgboost/probs_5_2_1.csv\n",
      "/kaggle/input/cross-sell-xgboost/probs_432_1_0.csv\n",
      "/kaggle/input/cross-sell-xgboost/probs_73_0_3.csv\n",
      "/kaggle/input/cross-sell-xgboost/probs_2_0_3.csv\n",
      "/kaggle/input/cross-sell-xgboost/probs_2_1_3.csv\n",
      "/kaggle/input/cross-sell-xgboost/probs_2_3_4.csv\n",
      "/kaggle/input/cross-sell-xgboost/probs_5_0_2.csv\n",
      "/kaggle/input/cross-sell-xgboost/probs_5_1_2.csv\n",
      "/kaggle/input/cross-sell-xgboost/probs_2_1_2.csv\n",
      "/kaggle/input/cross-sell-xgboost/probs_5_3_0.csv\n",
      "/kaggle/input/cross-sell-xgboost/probs_73_0_0.csv\n",
      "/kaggle/input/cross-sell-xgboost/probs_73_3_4.csv\n",
      "/kaggle/input/cross-sell-xgboost/probs_432_3_4.csv\n",
      "/kaggle/input/cross-sell-xgboost/probs_2_2_3.csv\n",
      "/kaggle/input/cross-sell-xgboost/probs_432_2_3.csv\n",
      "/kaggle/input/cross-sell-xgboost/__results__.html\n",
      "/kaggle/input/cross-sell-xgboost/__output__.json\n",
      "/kaggle/input/cross-sell-xgboost/probs_2_0_1.csv\n",
      "/kaggle/input/cross-sell-xgboost/probs_32_3_4.csv\n",
      "/kaggle/input/cross-sell-xgboost/probs_32_0_3.csv\n",
      "/kaggle/input/cross-sell-xgboost/probs_2_2_2.csv\n",
      "/kaggle/input/cross-sell-xgboost/probs_5_2_3.csv\n",
      "/kaggle/input/cross-sell-xgboost/probs_32_1_2.csv\n",
      "/kaggle/input/cross-sell-xgboost/probs_432_4_4.csv\n",
      "/kaggle/input/cross-sell-xgboost/probs_5_4_0.csv\n",
      "/kaggle/input/cross-sell-xgboost/probs_73_3_1.csv\n",
      "/kaggle/input/cross-sell-xgboost/probs_32_0_1.csv\n",
      "/kaggle/input/cross-sell-xgboost/probs_32_2_1.csv\n",
      "/kaggle/input/cross-sell-xgboost/probs_73_1_0.csv\n",
      "/kaggle/input/cross-sell-xgboost/probs_73_2_3.csv\n",
      "/kaggle/input/cross-sell-xgboost/probs_73_2_2.csv\n",
      "/kaggle/input/cross-sell-xgboost/probs_5_4_4.csv\n",
      "/kaggle/input/cross-sell-xgboost/probs_32_0_4.csv\n",
      "/kaggle/input/cross-sell-xgboost/probs_432_0_1.csv\n",
      "/kaggle/input/cross-sell-xgboost/probs_432_0_3.csv\n",
      "/kaggle/input/cross-sell-xgboost/probs_32_4_2.csv\n",
      "/kaggle/input/cross-sell-xgboost/probs_432_1_3.csv\n",
      "/kaggle/input/cross-sell-xgboost/probs_32_2_4.csv\n",
      "/kaggle/input/cross-sell-xgboost/probs_32_4_4.csv\n",
      "/kaggle/input/cross-sell-xgboost/probs_2_3_2.csv\n",
      "/kaggle/input/cross-sell-xgboost/probs_5_2_4.csv\n",
      "/kaggle/input/cross-sell-xgboost/probs_432_1_1.csv\n",
      "/kaggle/input/cross-sell-xgboost/probs.csv\n",
      "/kaggle/input/cross-sell-xgboost/probs_32_0_2.csv\n",
      "/kaggle/input/cross-sell-xgboost/probs_2_0_0.csv\n",
      "/kaggle/input/cross-sell-xgboost/probs_432_4_2.csv\n",
      "/kaggle/input/cross-sell-xgboost/probs_2_4_1.csv\n",
      "/kaggle/input/cross-sell-xgboost/probs_32_3_2.csv\n",
      "/kaggle/input/cross-sell-xgboost/probs_73_1_1.csv\n",
      "/kaggle/input/cross-sell-xgboost/probs_73_4_3.csv\n",
      "/kaggle/input/cross-sell-xgboost/probs_2_4_4.csv\n",
      "/kaggle/input/cross-sell-xgboost/probs_32_3_3.csv\n",
      "/kaggle/input/cross-sell-xgboost/probs_32_4_1.csv\n",
      "/kaggle/input/cross-sell-xgboost/probs_5_1_0.csv\n",
      "/kaggle/input/cross-sell-xgboost/probs_432_4_1.csv\n",
      "/kaggle/input/cross-sell-xgboost/probs_2_0_2.csv\n",
      "/kaggle/input/cross-sell-xgboost/probs_2_0_4.csv\n",
      "/kaggle/input/cross-sell-xgboost/probs_432_2_0.csv\n",
      "/kaggle/input/cross-sell-xgboost/probs_32_3_1.csv\n",
      "/kaggle/input/cross-sell-xgboost/probs_73_3_2.csv\n",
      "/kaggle/input/cross-sell-xgboost/probs_5_0_4.csv\n",
      "/kaggle/input/cross-sell-xgboost/probs_2_1_1.csv\n",
      "/kaggle/input/cross-sell-xgboost/probs_5_4_2.csv\n",
      "/kaggle/input/cross-sell-xgboost/probs_73_2_1.csv\n",
      "/kaggle/input/cross-sell-xgboost/probs_73_3_3.csv\n",
      "/kaggle/input/cross-sell-xgboost/probs_32_1_1.csv\n",
      "/kaggle/input/cross-sell-xgboost/probs_2_4_0.csv\n",
      "/kaggle/input/cross-sell-xgboost/probs_2_3_0.csv\n",
      "/kaggle/input/cross-sell-xgboost/probs_432_3_3.csv\n",
      "/kaggle/input/cross-sell-xgboost/probs_5_1_4.csv\n",
      "/kaggle/input/cross-sell-xgboost/probs_32_1_3.csv\n",
      "/kaggle/input/cross-sell-xgboost/probs_432_4_3.csv\n",
      "/kaggle/input/cross-sell-xgboost/probs_73_1_3.csv\n",
      "/kaggle/input/cross-sell-xgboost/__results___files/__results___8_1.png\n",
      "/kaggle/input/cross-sell-xgboost/__results___files/__results___6_1.png\n",
      "/kaggle/input/cross-sell-lightgbm/probs_73_2_0.csv\n",
      "/kaggle/input/cross-sell-lightgbm/probs_5_2_0.csv\n",
      "/kaggle/input/cross-sell-lightgbm/probs_73_1_2.csv\n",
      "/kaggle/input/cross-sell-lightgbm/probs_432_3_2.csv\n",
      "/kaggle/input/cross-sell-lightgbm/probs_73_2_4.csv\n",
      "/kaggle/input/cross-sell-lightgbm/probs_73_4_0.csv\n",
      "/kaggle/input/cross-sell-lightgbm/probs_5_3_3.csv\n",
      "/kaggle/input/cross-sell-lightgbm/probs_432_1_2.csv\n",
      "/kaggle/input/cross-sell-lightgbm/probs_432_1_4.csv\n",
      "/kaggle/input/cross-sell-lightgbm/probs_5_1_1.csv\n",
      "/kaggle/input/cross-sell-lightgbm/probs_2_1_4.csv\n",
      "/kaggle/input/cross-sell-lightgbm/probs_2_3_1.csv\n",
      "/kaggle/input/cross-sell-lightgbm/probs_5_0_1.csv\n",
      "/kaggle/input/cross-sell-lightgbm/probs_432_2_2.csv\n",
      "/kaggle/input/cross-sell-lightgbm/probs_5_3_1.csv\n",
      "/kaggle/input/cross-sell-lightgbm/probs_73_1_4.csv\n",
      "/kaggle/input/cross-sell-lightgbm/probs_73_0_4.csv\n",
      "/kaggle/input/cross-sell-lightgbm/probs_73_0_1.csv\n",
      "/kaggle/input/cross-sell-lightgbm/probs_2_2_0.csv\n",
      "/kaggle/input/cross-sell-lightgbm/probs_2_2_1.csv\n",
      "/kaggle/input/cross-sell-lightgbm/probs_2_4_3.csv\n",
      "/kaggle/input/cross-sell-lightgbm/probs_2_1_0.csv\n",
      "/kaggle/input/cross-sell-lightgbm/probs_5_0_0.csv\n",
      "/kaggle/input/cross-sell-lightgbm/probs_432_0_4.csv\n",
      "/kaggle/input/cross-sell-lightgbm/probs_432_3_0.csv\n",
      "/kaggle/input/cross-sell-lightgbm/probs_432_2_4.csv\n",
      "/kaggle/input/cross-sell-lightgbm/probs_73_0_2.csv\n",
      "/kaggle/input/cross-sell-lightgbm/probs_73_4_1.csv\n",
      "/kaggle/input/cross-sell-lightgbm/probs_432_3_1.csv\n",
      "/kaggle/input/cross-sell-lightgbm/probs_32_2_2.csv\n",
      "/kaggle/input/cross-sell-lightgbm/probs_5_3_4.csv\n",
      "/kaggle/input/cross-sell-lightgbm/probs_2_2_4.csv\n",
      "/kaggle/input/cross-sell-lightgbm/probs_5_0_3.csv\n",
      "/kaggle/input/cross-sell-lightgbm/probs_432_0_0.csv\n",
      "/kaggle/input/cross-sell-lightgbm/probs_32_2_3.csv\n",
      "/kaggle/input/cross-sell-lightgbm/probs_32_4_3.csv\n",
      "/kaggle/input/cross-sell-lightgbm/probs_432_0_2.csv\n",
      "/kaggle/input/cross-sell-lightgbm/probs_5_4_3.csv\n",
      "/kaggle/input/cross-sell-lightgbm/probs_5_1_3.csv\n",
      "/kaggle/input/cross-sell-lightgbm/model_stats.csv\n",
      "/kaggle/input/cross-sell-lightgbm/probs_32_2_0.csv\n",
      "/kaggle/input/cross-sell-lightgbm/probs_73_4_4.csv\n",
      "/kaggle/input/cross-sell-lightgbm/probs_73_4_2.csv\n",
      "/kaggle/input/cross-sell-lightgbm/probs_2_4_2.csv\n",
      "/kaggle/input/cross-sell-lightgbm/probs_5_3_2.csv\n",
      "/kaggle/input/cross-sell-lightgbm/probs_432_2_1.csv\n",
      "/kaggle/input/cross-sell-lightgbm/probs_32_3_0.csv\n",
      "/kaggle/input/cross-sell-lightgbm/probs_2_3_3.csv\n",
      "/kaggle/input/cross-sell-lightgbm/probs_32_4_0.csv\n",
      "/kaggle/input/cross-sell-lightgbm/probs_32_0_0.csv\n",
      "/kaggle/input/cross-sell-lightgbm/probs_73_3_0.csv\n",
      "/kaggle/input/cross-sell-lightgbm/probs_5_2_2.csv\n",
      "/kaggle/input/cross-sell-lightgbm/probs_5_4_1.csv\n",
      "/kaggle/input/cross-sell-lightgbm/probs_432_4_0.csv\n",
      "/kaggle/input/cross-sell-lightgbm/probs_32_1_4.csv\n",
      "/kaggle/input/cross-sell-lightgbm/custom.css\n",
      "/kaggle/input/cross-sell-lightgbm/__notebook__.ipynb\n",
      "/kaggle/input/cross-sell-lightgbm/probs_32_1_0.csv\n",
      "/kaggle/input/cross-sell-lightgbm/probs_5_2_1.csv\n",
      "/kaggle/input/cross-sell-lightgbm/probs_432_1_0.csv\n",
      "/kaggle/input/cross-sell-lightgbm/probs_73_0_3.csv\n",
      "/kaggle/input/cross-sell-lightgbm/probs_2_0_3.csv\n",
      "/kaggle/input/cross-sell-lightgbm/probs_2_1_3.csv\n",
      "/kaggle/input/cross-sell-lightgbm/probs_2_3_4.csv\n",
      "/kaggle/input/cross-sell-lightgbm/probs_5_0_2.csv\n",
      "/kaggle/input/cross-sell-lightgbm/probs_5_1_2.csv\n",
      "/kaggle/input/cross-sell-lightgbm/probs_2_1_2.csv\n",
      "/kaggle/input/cross-sell-lightgbm/probs_5_3_0.csv\n",
      "/kaggle/input/cross-sell-lightgbm/probs_73_0_0.csv\n",
      "/kaggle/input/cross-sell-lightgbm/probs_73_3_4.csv\n",
      "/kaggle/input/cross-sell-lightgbm/probs_432_3_4.csv\n",
      "/kaggle/input/cross-sell-lightgbm/probs_2_2_3.csv\n",
      "/kaggle/input/cross-sell-lightgbm/probs_432_2_3.csv\n",
      "/kaggle/input/cross-sell-lightgbm/__results__.html\n",
      "/kaggle/input/cross-sell-lightgbm/__output__.json\n",
      "/kaggle/input/cross-sell-lightgbm/probs_2_0_1.csv\n",
      "/kaggle/input/cross-sell-lightgbm/probs_32_3_4.csv\n",
      "/kaggle/input/cross-sell-lightgbm/probs_32_0_3.csv\n",
      "/kaggle/input/cross-sell-lightgbm/probs_2_2_2.csv\n",
      "/kaggle/input/cross-sell-lightgbm/probs_5_2_3.csv\n",
      "/kaggle/input/cross-sell-lightgbm/probs_32_1_2.csv\n",
      "/kaggle/input/cross-sell-lightgbm/probs_432_4_4.csv\n",
      "/kaggle/input/cross-sell-lightgbm/probs_5_4_0.csv\n",
      "/kaggle/input/cross-sell-lightgbm/probs_73_3_1.csv\n",
      "/kaggle/input/cross-sell-lightgbm/probs_32_0_1.csv\n",
      "/kaggle/input/cross-sell-lightgbm/probs_32_2_1.csv\n",
      "/kaggle/input/cross-sell-lightgbm/probs_73_1_0.csv\n",
      "/kaggle/input/cross-sell-lightgbm/probs_73_2_3.csv\n",
      "/kaggle/input/cross-sell-lightgbm/probs_73_2_2.csv\n",
      "/kaggle/input/cross-sell-lightgbm/probs_5_4_4.csv\n",
      "/kaggle/input/cross-sell-lightgbm/probs_32_0_4.csv\n",
      "/kaggle/input/cross-sell-lightgbm/probs_432_0_1.csv\n",
      "/kaggle/input/cross-sell-lightgbm/probs_432_0_3.csv\n",
      "/kaggle/input/cross-sell-lightgbm/probs_32_4_2.csv\n",
      "/kaggle/input/cross-sell-lightgbm/probs_432_1_3.csv\n",
      "/kaggle/input/cross-sell-lightgbm/probs_32_2_4.csv\n",
      "/kaggle/input/cross-sell-lightgbm/probs_32_4_4.csv\n",
      "/kaggle/input/cross-sell-lightgbm/probs_2_3_2.csv\n",
      "/kaggle/input/cross-sell-lightgbm/probs_5_2_4.csv\n",
      "/kaggle/input/cross-sell-lightgbm/probs_432_1_1.csv\n",
      "/kaggle/input/cross-sell-lightgbm/probs.csv\n",
      "/kaggle/input/cross-sell-lightgbm/probs_32_0_2.csv\n",
      "/kaggle/input/cross-sell-lightgbm/probs_2_0_0.csv\n",
      "/kaggle/input/cross-sell-lightgbm/probs_432_4_2.csv\n",
      "/kaggle/input/cross-sell-lightgbm/probs_2_4_1.csv\n",
      "/kaggle/input/cross-sell-lightgbm/probs_32_3_2.csv\n",
      "/kaggle/input/cross-sell-lightgbm/probs_73_1_1.csv\n",
      "/kaggle/input/cross-sell-lightgbm/probs_73_4_3.csv\n",
      "/kaggle/input/cross-sell-lightgbm/probs_2_4_4.csv\n",
      "/kaggle/input/cross-sell-lightgbm/probs_32_3_3.csv\n",
      "/kaggle/input/cross-sell-lightgbm/probs_32_4_1.csv\n",
      "/kaggle/input/cross-sell-lightgbm/probs_5_1_0.csv\n",
      "/kaggle/input/cross-sell-lightgbm/probs_432_4_1.csv\n",
      "/kaggle/input/cross-sell-lightgbm/probs_2_0_2.csv\n",
      "/kaggle/input/cross-sell-lightgbm/probs_2_0_4.csv\n",
      "/kaggle/input/cross-sell-lightgbm/probs_432_2_0.csv\n",
      "/kaggle/input/cross-sell-lightgbm/probs_32_3_1.csv\n",
      "/kaggle/input/cross-sell-lightgbm/probs_73_3_2.csv\n",
      "/kaggle/input/cross-sell-lightgbm/probs_5_0_4.csv\n",
      "/kaggle/input/cross-sell-lightgbm/probs_2_1_1.csv\n",
      "/kaggle/input/cross-sell-lightgbm/probs_5_4_2.csv\n",
      "/kaggle/input/cross-sell-lightgbm/probs_73_2_1.csv\n",
      "/kaggle/input/cross-sell-lightgbm/probs_73_3_3.csv\n",
      "/kaggle/input/cross-sell-lightgbm/probs_32_1_1.csv\n",
      "/kaggle/input/cross-sell-lightgbm/probs_2_4_0.csv\n",
      "/kaggle/input/cross-sell-lightgbm/probs_2_3_0.csv\n",
      "/kaggle/input/cross-sell-lightgbm/probs_432_3_3.csv\n",
      "/kaggle/input/cross-sell-lightgbm/probs_5_1_4.csv\n",
      "/kaggle/input/cross-sell-lightgbm/probs_32_1_3.csv\n",
      "/kaggle/input/cross-sell-lightgbm/probs_432_4_3.csv\n",
      "/kaggle/input/cross-sell-lightgbm/probs_73_1_3.csv\n",
      "/kaggle/input/cross-sell-lightgbm/__results___files/__results___8_1.png\n",
      "/kaggle/input/cross-sell-lightgbm/__results___files/__results___6_1.png\n",
      "/kaggle/input/cross-sell-cb-32/probs_32_2_2.csv\n",
      "/kaggle/input/cross-sell-cb-32/probs_32_2_3.csv\n",
      "/kaggle/input/cross-sell-cb-32/probs_32_4_3.csv\n",
      "/kaggle/input/cross-sell-cb-32/model_stats.csv\n",
      "/kaggle/input/cross-sell-cb-32/probs_32_2_0.csv\n",
      "/kaggle/input/cross-sell-cb-32/probs_32_3_0.csv\n",
      "/kaggle/input/cross-sell-cb-32/probs_32_4_0.csv\n",
      "/kaggle/input/cross-sell-cb-32/probs_32_0_0.csv\n",
      "/kaggle/input/cross-sell-cb-32/probs_32_1_4.csv\n",
      "/kaggle/input/cross-sell-cb-32/custom.css\n",
      "/kaggle/input/cross-sell-cb-32/__notebook__.ipynb\n",
      "/kaggle/input/cross-sell-cb-32/probs_32_1_0.csv\n",
      "/kaggle/input/cross-sell-cb-32/__results__.html\n",
      "/kaggle/input/cross-sell-cb-32/__output__.json\n",
      "/kaggle/input/cross-sell-cb-32/probs_32_3_4.csv\n",
      "/kaggle/input/cross-sell-cb-32/probs_32_0_3.csv\n",
      "/kaggle/input/cross-sell-cb-32/probs_32_1_2.csv\n",
      "/kaggle/input/cross-sell-cb-32/probs_32_0_1.csv\n",
      "/kaggle/input/cross-sell-cb-32/probs_32_2_1.csv\n",
      "/kaggle/input/cross-sell-cb-32/probs_32_0_4.csv\n",
      "/kaggle/input/cross-sell-cb-32/probs_32_4_2.csv\n",
      "/kaggle/input/cross-sell-cb-32/probs_32_2_4.csv\n",
      "/kaggle/input/cross-sell-cb-32/probs_32_4_4.csv\n",
      "/kaggle/input/cross-sell-cb-32/probs.csv\n",
      "/kaggle/input/cross-sell-cb-32/probs_32_0_2.csv\n",
      "/kaggle/input/cross-sell-cb-32/probs_32_3_2.csv\n",
      "/kaggle/input/cross-sell-cb-32/probs_32_3_3.csv\n",
      "/kaggle/input/cross-sell-cb-32/probs_32_4_1.csv\n",
      "/kaggle/input/cross-sell-cb-32/probs_32_3_1.csv\n",
      "/kaggle/input/cross-sell-cb-32/probs_32_1_1.csv\n",
      "/kaggle/input/cross-sell-cb-32/probs_32_1_3.csv\n",
      "/kaggle/input/cross-sell-cb-32/__results___files/__results___8_1.png\n",
      "/kaggle/input/cross-sell-cb-32/__results___files/__results___6_1.png\n",
      "/kaggle/input/cross-sell-cb-32/catboost_info/learn_error.tsv\n",
      "/kaggle/input/cross-sell-cb-32/catboost_info/test_error.tsv\n",
      "/kaggle/input/cross-sell-cb-32/catboost_info/catboost_training.json\n",
      "/kaggle/input/cross-sell-cb-32/catboost_info/time_left.tsv\n",
      "/kaggle/input/cross-sell-cb-32/catboost_info/test/events.out.tfevents\n",
      "/kaggle/input/cross-sell-cb-32/catboost_info/learn/events.out.tfevents\n",
      "/kaggle/input/cross-sell-cb-1/probs_1_2_1.csv\n",
      "/kaggle/input/cross-sell-cb-1/probs_1_0_3.csv\n",
      "/kaggle/input/cross-sell-cb-1/probs_1_1_0.csv\n",
      "/kaggle/input/cross-sell-cb-1/probs_1_4_1.csv\n",
      "/kaggle/input/cross-sell-cb-1/model_stats.csv\n",
      "/kaggle/input/cross-sell-cb-1/probs_1_3_4.csv\n",
      "/kaggle/input/cross-sell-cb-1/probs_1_4_0.csv\n",
      "/kaggle/input/cross-sell-cb-1/probs_1_0_1.csv\n",
      "/kaggle/input/cross-sell-cb-1/probs_1_4_4.csv\n",
      "/kaggle/input/cross-sell-cb-1/probs_1_1_3.csv\n",
      "/kaggle/input/cross-sell-cb-1/probs_1_0_4.csv\n",
      "/kaggle/input/cross-sell-cb-1/probs_1_3_3.csv\n",
      "/kaggle/input/cross-sell-cb-1/probs_1_3_2.csv\n",
      "/kaggle/input/cross-sell-cb-1/probs_1_0_0.csv\n",
      "/kaggle/input/cross-sell-cb-1/custom.css\n",
      "/kaggle/input/cross-sell-cb-1/probs_1_2_0.csv\n",
      "/kaggle/input/cross-sell-cb-1/__notebook__.ipynb\n",
      "/kaggle/input/cross-sell-cb-1/probs_1_4_2.csv\n",
      "/kaggle/input/cross-sell-cb-1/probs_1_4_3.csv\n",
      "/kaggle/input/cross-sell-cb-1/probs_1_2_2.csv\n",
      "/kaggle/input/cross-sell-cb-1/__results__.html\n",
      "/kaggle/input/cross-sell-cb-1/__output__.json\n",
      "/kaggle/input/cross-sell-cb-1/probs_1_1_2.csv\n",
      "/kaggle/input/cross-sell-cb-1/probs_1_3_0.csv\n",
      "/kaggle/input/cross-sell-cb-1/probs.csv\n",
      "/kaggle/input/cross-sell-cb-1/probs_1_1_4.csv\n",
      "/kaggle/input/cross-sell-cb-1/probs_1_2_3.csv\n",
      "/kaggle/input/cross-sell-cb-1/probs_1_2_4.csv\n",
      "/kaggle/input/cross-sell-cb-1/probs_1_3_1.csv\n",
      "/kaggle/input/cross-sell-cb-1/probs_1_1_1.csv\n",
      "/kaggle/input/cross-sell-cb-1/probs_1_0_2.csv\n",
      "/kaggle/input/cross-sell-cb-1/__results___files/__results___8_1.png\n",
      "/kaggle/input/cross-sell-cb-1/__results___files/__results___6_1.png\n",
      "/kaggle/input/cross-sell-cb-1/catboost_info/learn_error.tsv\n",
      "/kaggle/input/cross-sell-cb-1/catboost_info/test_error.tsv\n",
      "/kaggle/input/cross-sell-cb-1/catboost_info/catboost_training.json\n",
      "/kaggle/input/cross-sell-cb-1/catboost_info/time_left.tsv\n",
      "/kaggle/input/cross-sell-cb-1/catboost_info/test/events.out.tfevents\n",
      "/kaggle/input/cross-sell-cb-1/catboost_info/learn/events.out.tfevents\n"
     ]
    }
   ],
   "source": [
    "import numpy as np \n",
    "import pandas as pd \n",
    "\n",
    "import os\n",
    "for dirname, _, filenames in os.walk('/kaggle/input'):\n",
    "    for filename in filenames:\n",
    "        print(os.path.join(dirname, filename))"
   ]
  },
  {
   "cell_type": "markdown",
   "metadata": {
    "papermill": {
     "duration": 0.021163,
     "end_time": "2020-09-21T03:05:32.752491",
     "exception": false,
     "start_time": "2020-09-21T03:05:32.731328",
     "status": "completed"
    },
    "tags": []
   },
   "source": [
    "# Generate Submission File"
   ]
  },
  {
   "cell_type": "code",
   "execution_count": 2,
   "metadata": {
    "execution": {
     "iopub.execute_input": "2020-09-21T03:05:32.799395Z",
     "iopub.status.busy": "2020-09-21T03:05:32.798694Z",
     "iopub.status.idle": "2020-09-21T03:05:32.801503Z",
     "shell.execute_reply": "2020-09-21T03:05:32.800934Z"
    },
    "papermill": {
     "duration": 0.028432,
     "end_time": "2020-09-21T03:05:32.801602",
     "exception": false,
     "start_time": "2020-09-21T03:05:32.773170",
     "status": "completed"
    },
    "tags": []
   },
   "outputs": [],
   "source": [
    "def generate_submission_file(probs_df):\n",
    "    \n",
    "    submission = pd.read_csv('../input/avcrosssell/sample_submission.csv')\n",
    "\n",
    "    submission['Response'] = probs_df\n",
    "\n",
    "    submission.to_csv('submission.csv',index=False)\n",
    "\n",
    "    print(submission.head())"
   ]
  },
  {
   "cell_type": "code",
   "execution_count": 3,
   "metadata": {
    "execution": {
     "iopub.execute_input": "2020-09-21T03:05:32.851946Z",
     "iopub.status.busy": "2020-09-21T03:05:32.851145Z",
     "iopub.status.idle": "2020-09-21T03:05:32.854118Z",
     "shell.execute_reply": "2020-09-21T03:05:32.853659Z"
    },
    "papermill": {
     "duration": 0.033258,
     "end_time": "2020-09-21T03:05:32.854282",
     "exception": false,
     "start_time": "2020-09-21T03:05:32.821024",
     "status": "completed"
    },
    "tags": []
   },
   "outputs": [],
   "source": [
    "def get_probs_file_name(fname,model):\n",
    "    \n",
    "    if model == 'lgb':\n",
    "        \n",
    "        fpath = '../input/cross-sell-lightgbm/' + fname\n",
    "        \n",
    "    if model == 'xgb':\n",
    "        \n",
    "        fpath = '../input/lets-get-rid-of-the-patients-xgboost/probs/' + fname\n",
    "        \n",
    "    if model == 'catboost-32':\n",
    "        \n",
    "        fpath = '../input/cross-sell-cb-32/' + fname[10:]\n",
    "        \n",
    "    if model == 'catboost-432':\n",
    "        \n",
    "        fpath = '../input/cross-sell-cb-432/' + fname[10:]\n",
    "    \n",
    "    if model == 'catboost-73':\n",
    "        \n",
    "        fpath = '../input/cross-sell-cb-73/' + fname[10:]\n",
    "        \n",
    "    if model == 'catboost-1':\n",
    "        \n",
    "        fpath = '../input/cross-sell-cb-1/' + fname[10:]\n",
    "        \n",
    "    if model == 'catboost-2':\n",
    "        \n",
    "        fpath = '../input/cross-sell-cb-2/' + fname[10:]\n",
    "    \n",
    "    return fpath"
   ]
  },
  {
   "cell_type": "code",
   "execution_count": 4,
   "metadata": {
    "execution": {
     "iopub.execute_input": "2020-09-21T03:05:32.902683Z",
     "iopub.status.busy": "2020-09-21T03:05:32.901960Z",
     "iopub.status.idle": "2020-09-21T03:05:32.985663Z",
     "shell.execute_reply": "2020-09-21T03:05:32.986109Z"
    },
    "papermill": {
     "duration": 0.111118,
     "end_time": "2020-09-21T03:05:32.986266",
     "exception": false,
     "start_time": "2020-09-21T03:05:32.875148",
     "status": "completed"
    },
    "tags": []
   },
   "outputs": [
    {
     "data": {
      "text/html": [
       "<div>\n",
       "<style scoped>\n",
       "    .dataframe tbody tr th:only-of-type {\n",
       "        vertical-align: middle;\n",
       "    }\n",
       "\n",
       "    .dataframe tbody tr th {\n",
       "        vertical-align: top;\n",
       "    }\n",
       "\n",
       "    .dataframe thead th {\n",
       "        text-align: right;\n",
       "    }\n",
       "</style>\n",
       "<table border=\"1\" class=\"dataframe\">\n",
       "  <thead>\n",
       "    <tr style=\"text-align: right;\">\n",
       "      <th></th>\n",
       "      <th>id</th>\n",
       "      <th>Response</th>\n",
       "    </tr>\n",
       "  </thead>\n",
       "  <tbody>\n",
       "    <tr>\n",
       "      <th>0</th>\n",
       "      <td>381110</td>\n",
       "      <td>0.001325</td>\n",
       "    </tr>\n",
       "    <tr>\n",
       "      <th>1</th>\n",
       "      <td>381111</td>\n",
       "      <td>0.295264</td>\n",
       "    </tr>\n",
       "    <tr>\n",
       "      <th>2</th>\n",
       "      <td>381112</td>\n",
       "      <td>0.289682</td>\n",
       "    </tr>\n",
       "    <tr>\n",
       "      <th>3</th>\n",
       "      <td>381113</td>\n",
       "      <td>0.007488</td>\n",
       "    </tr>\n",
       "    <tr>\n",
       "      <th>4</th>\n",
       "      <td>381114</td>\n",
       "      <td>0.001115</td>\n",
       "    </tr>\n",
       "  </tbody>\n",
       "</table>\n",
       "</div>"
      ],
      "text/plain": [
       "       id  Response\n",
       "0  381110  0.001325\n",
       "1  381111  0.295264\n",
       "2  381112  0.289682\n",
       "3  381113  0.007488\n",
       "4  381114  0.001115"
      ]
     },
     "execution_count": 4,
     "metadata": {},
     "output_type": "execute_result"
    }
   ],
   "source": [
    "sample_probs_file = pd.read_csv('../input/cross-sell-lightgbm/probs.csv')\n",
    "\n",
    "sample_probs_file.head()"
   ]
  },
  {
   "cell_type": "code",
   "execution_count": 5,
   "metadata": {
    "_cell_guid": "79c7e3d0-c299-4dcb-8224-4455121ee9b0",
    "_uuid": "d629ff2d2480ee46fbb7e2d37f6b5fab8052498a",
    "execution": {
     "iopub.execute_input": "2020-09-21T03:05:33.035365Z",
     "iopub.status.busy": "2020-09-21T03:05:33.034703Z",
     "iopub.status.idle": "2020-09-21T03:05:33.057352Z",
     "shell.execute_reply": "2020-09-21T03:05:33.056802Z"
    },
    "papermill": {
     "duration": 0.050644,
     "end_time": "2020-09-21T03:05:33.057479",
     "exception": false,
     "start_time": "2020-09-21T03:05:33.006835",
     "status": "completed"
    },
    "tags": []
   },
   "outputs": [],
   "source": [
    "model_stats_catboost_32 = pd.read_csv('../input/cross-sell-cb-32/model_stats.csv')\n",
    "\n",
    "model_stats_catboost_432 = pd.read_csv('../input/cross-sell-cb-432/model_stats.csv')\n",
    "\n",
    "model_stats_catboost_73 = pd.read_csv('../input/cross-sell-cb-73/model_stats.csv')\n",
    "\n",
    "model_stats_catboost_1 = pd.read_csv('../input/cross-sell-cb-1/model_stats.csv')\n",
    "\n",
    "model_stats_catboost_2 = pd.read_csv('../input/cross-sell-cb-2/model_stats.csv')\n",
    "\n",
    "model_stats_lgb = pd.read_csv('../input/cross-sell-lightgbm/model_stats.csv')\n",
    "\n",
    "model_stats_xgb = pd.read_csv('../input/cross-sell-xgboost/model_stats.csv')"
   ]
  },
  {
   "cell_type": "code",
   "execution_count": 6,
   "metadata": {
    "execution": {
     "iopub.execute_input": "2020-09-21T03:05:33.108498Z",
     "iopub.status.busy": "2020-09-21T03:05:33.107701Z",
     "iopub.status.idle": "2020-09-21T03:05:33.484416Z",
     "shell.execute_reply": "2020-09-21T03:05:33.483844Z"
    },
    "papermill": {
     "duration": 0.405804,
     "end_time": "2020-09-21T03:05:33.484529",
     "exception": false,
     "start_time": "2020-09-21T03:05:33.078725",
     "status": "completed"
    },
    "tags": []
   },
   "outputs": [],
   "source": [
    "##ALL\n",
    "probs_file_cat_32 = pd.read_csv('../input/cross-sell-cb-32/probs.csv')\n",
    "\n",
    "probs_file_cat_432 = pd.read_csv('../input/cross-sell-cb-432/probs.csv')\n",
    "\n",
    "probs_file_cat_2 = pd.read_csv('../input/cross-sell-cb-2/probs.csv')\n",
    "\n",
    "probs_file_cat_1 = pd.read_csv('../input/cross-sell-cb-1/probs.csv')\n",
    "\n",
    "probs_file_cat_73 = pd.read_csv('../input/cross-sell-cb-73/probs.csv')\n",
    "\n",
    "probs_file_lgb = pd.read_csv('../input/cross-sell-lightgbm/probs.csv')\n",
    "\n",
    "probs_file_xgb = pd.read_csv('../input/cross-sell-xgboost/probs.csv')"
   ]
  },
  {
   "cell_type": "code",
   "execution_count": 7,
   "metadata": {
    "execution": {
     "iopub.execute_input": "2020-09-21T03:05:33.538792Z",
     "iopub.status.busy": "2020-09-21T03:05:33.538100Z",
     "iopub.status.idle": "2020-09-21T03:05:33.576010Z",
     "shell.execute_reply": "2020-09-21T03:05:33.575513Z"
    },
    "papermill": {
     "duration": 0.070467,
     "end_time": "2020-09-21T03:05:33.576135",
     "exception": false,
     "start_time": "2020-09-21T03:05:33.505668",
     "status": "completed"
    },
    "tags": []
   },
   "outputs": [
    {
     "data": {
      "text/html": [
       "<div>\n",
       "<style scoped>\n",
       "    .dataframe tbody tr th:only-of-type {\n",
       "        vertical-align: middle;\n",
       "    }\n",
       "\n",
       "    .dataframe tbody tr th {\n",
       "        vertical-align: top;\n",
       "    }\n",
       "\n",
       "    .dataframe thead th {\n",
       "        text-align: right;\n",
       "    }\n",
       "</style>\n",
       "<table border=\"1\" class=\"dataframe\">\n",
       "  <thead>\n",
       "    <tr style=\"text-align: right;\">\n",
       "      <th></th>\n",
       "      <th>Response</th>\n",
       "    </tr>\n",
       "  </thead>\n",
       "  <tbody>\n",
       "    <tr>\n",
       "      <th>0</th>\n",
       "      <td>0.000743</td>\n",
       "    </tr>\n",
       "    <tr>\n",
       "      <th>1</th>\n",
       "      <td>0.307575</td>\n",
       "    </tr>\n",
       "    <tr>\n",
       "      <th>2</th>\n",
       "      <td>0.289092</td>\n",
       "    </tr>\n",
       "    <tr>\n",
       "      <th>3</th>\n",
       "      <td>0.007392</td>\n",
       "    </tr>\n",
       "    <tr>\n",
       "      <th>4</th>\n",
       "      <td>0.000443</td>\n",
       "    </tr>\n",
       "    <tr>\n",
       "      <th>...</th>\n",
       "      <td>...</td>\n",
       "    </tr>\n",
       "    <tr>\n",
       "      <th>127032</th>\n",
       "      <td>0.000533</td>\n",
       "    </tr>\n",
       "    <tr>\n",
       "      <th>127033</th>\n",
       "      <td>0.367856</td>\n",
       "    </tr>\n",
       "    <tr>\n",
       "      <th>127034</th>\n",
       "      <td>0.000354</td>\n",
       "    </tr>\n",
       "    <tr>\n",
       "      <th>127035</th>\n",
       "      <td>0.000277</td>\n",
       "    </tr>\n",
       "    <tr>\n",
       "      <th>127036</th>\n",
       "      <td>0.002135</td>\n",
       "    </tr>\n",
       "  </tbody>\n",
       "</table>\n",
       "<p>127037 rows × 1 columns</p>\n",
       "</div>"
      ],
      "text/plain": [
       "        Response\n",
       "0       0.000743\n",
       "1       0.307575\n",
       "2       0.289092\n",
       "3       0.007392\n",
       "4       0.000443\n",
       "...          ...\n",
       "127032  0.000533\n",
       "127033  0.367856\n",
       "127034  0.000354\n",
       "127035  0.000277\n",
       "127036  0.002135\n",
       "\n",
       "[127037 rows x 1 columns]"
      ]
     },
     "execution_count": 7,
     "metadata": {},
     "output_type": "execute_result"
    }
   ],
   "source": [
    "probs_cb = (probs_file_cat_73.iloc[:,1:]+probs_file_cat_32.iloc[:,1:]+probs_file_cat_432.iloc[:,1:]+probs_file_cat_1.iloc[:,1:]+probs_file_cat_2.iloc[:,1:])/5 \n",
    "probs_ensemble = 0.5*probs_file_cat_73.iloc[:,1:] + 0.5*probs_file_xgb.iloc[:,1:]\n",
    "probs_ensemble"
   ]
  },
  {
   "cell_type": "code",
   "execution_count": 8,
   "metadata": {
    "execution": {
     "iopub.execute_input": "2020-09-21T03:05:33.624774Z",
     "iopub.status.busy": "2020-09-21T03:05:33.624082Z",
     "iopub.status.idle": "2020-09-21T03:05:34.529571Z",
     "shell.execute_reply": "2020-09-21T03:05:34.529082Z"
    },
    "papermill": {
     "duration": 0.932004,
     "end_time": "2020-09-21T03:05:34.529709",
     "exception": false,
     "start_time": "2020-09-21T03:05:33.597705",
     "status": "completed"
    },
    "tags": []
   },
   "outputs": [
    {
     "name": "stdout",
     "output_type": "stream",
     "text": [
      "       id  Response\n",
      "0  381110  0.000743\n",
      "1  381111  0.307575\n",
      "2  381112  0.289092\n",
      "3  381113  0.007392\n",
      "4  381114  0.000443\n"
     ]
    }
   ],
   "source": [
    "generate_submission_file(probs_ensemble)"
   ]
  },
  {
   "cell_type": "markdown",
   "metadata": {
    "papermill": {
     "duration": 0.02324,
     "end_time": "2020-09-21T03:05:34.575282",
     "exception": false,
     "start_time": "2020-09-21T03:05:34.552042",
     "status": "completed"
    },
    "tags": []
   },
   "source": [
    "# Get Min Loss Indices"
   ]
  },
  {
   "cell_type": "code",
   "execution_count": 9,
   "metadata": {
    "execution": {
     "iopub.execute_input": "2020-09-21T03:05:34.626400Z",
     "iopub.status.busy": "2020-09-21T03:05:34.625761Z",
     "iopub.status.idle": "2020-09-21T03:05:34.629550Z",
     "shell.execute_reply": "2020-09-21T03:05:34.629019Z"
    },
    "papermill": {
     "duration": 0.031972,
     "end_time": "2020-09-21T03:05:34.629655",
     "exception": false,
     "start_time": "2020-09-21T03:05:34.597683",
     "status": "completed"
    },
    "tags": []
   },
   "outputs": [
    {
     "data": {
      "text/plain": [
       "array([ 26,  27,  28,  93,  92,  25,  11,  90,  10,  94,  91,  30,  56,\n",
       "        29,  57,  34,  58,  68,  31,  59,  32,  65,  55, 108,  23,  12,\n",
       "       107,  33,  24,  87,  22, 106,  52,  88,  69,  86,  13,  51,   9,\n",
       "         7,   6, 109,  79,  20,  78,   5,   1,  67,  66,   4,  89,  21,\n",
       "        46,  54,  76, 121,  75,  53,   0, 122,  77,  48, 101,  99, 100,\n",
       "        95,   3,   2, 105,  98, 115, 104,   8,  74, 103, 120, 118,  14,\n",
       "        97,  72, 124,  16, 102,  71,  18, 116,  15,  70, 117,  45,  80,\n",
       "        83,  62,  60,  47,  50,  73, 119, 123,  19,  61,  17,  81,  96,\n",
       "        49,  64,  84, 110, 114,  82, 112,  85,  63, 111, 113,  36,  38,\n",
       "        39,  37,  35,  40,  43,  41,  44,  42])"
      ]
     },
     "execution_count": 9,
     "metadata": {},
     "output_type": "execute_result"
    }
   ],
   "source": [
    "min_loss_index_lgb = np.argsort(model_stats_lgb.validation_loss.values)\n",
    "\n",
    "min_loss_index_lgb"
   ]
  },
  {
   "cell_type": "code",
   "execution_count": 10,
   "metadata": {
    "execution": {
     "iopub.execute_input": "2020-09-21T03:05:34.680287Z",
     "iopub.status.busy": "2020-09-21T03:05:34.679623Z",
     "iopub.status.idle": "2020-09-21T03:05:34.685567Z",
     "shell.execute_reply": "2020-09-21T03:05:34.686044Z"
    },
    "papermill": {
     "duration": 0.032827,
     "end_time": "2020-09-21T03:05:34.686210",
     "exception": false,
     "start_time": "2020-09-21T03:05:34.653383",
     "status": "completed"
    },
    "tags": []
   },
   "outputs": [
    {
     "data": {
      "text/plain": [
       "array([ 28,  27,  25,  26,  29,  10,  14,  12,  32,  34,  33,  13,  90,\n",
       "        66,  94,  11,  31,  55,  30,  56,  65,  91,  20,  68,  93,  22,\n",
       "        50,  88,  92,  85,  21,  23,  69,  89,  59,  24,  51,  87,  57,\n",
       "        53,  58,  67,  54,  52,  86,  79,  75,   9, 107,   8, 106, 105,\n",
       "        77,   7,   6, 108, 109,   5,  76,  78, 115,   0,  97, 119, 117,\n",
       "        95,   2,   3, 118, 121, 122,   1,  96, 116,  99,   4, 124,  98,\n",
       "        47, 104, 123,  45,  49, 101, 100, 120,  48, 103,  71,  73,  72,\n",
       "        46,  70,  74, 102,  19,  62,  15,  17,  18,  63,  16,  61,  60,\n",
       "        83,  64,  80,  84, 111,  81, 110, 114,  82, 112, 113,  35,  36,\n",
       "        38,  37,  39,  42,  43,  40,  44,  41])"
      ]
     },
     "execution_count": 10,
     "metadata": {},
     "output_type": "execute_result"
    }
   ],
   "source": [
    "min_loss_index_xgb = np.argsort(model_stats_xgb.validation_loss.values)\n",
    "\n",
    "min_loss_index_xgb"
   ]
  },
  {
   "cell_type": "code",
   "execution_count": 11,
   "metadata": {
    "execution": {
     "iopub.execute_input": "2020-09-21T03:05:34.739299Z",
     "iopub.status.busy": "2020-09-21T03:05:34.738474Z",
     "iopub.status.idle": "2020-09-21T03:05:34.745364Z",
     "shell.execute_reply": "2020-09-21T03:05:34.745849Z"
    },
    "papermill": {
     "duration": 0.03554,
     "end_time": "2020-09-21T03:05:34.745978",
     "exception": false,
     "start_time": "2020-09-21T03:05:34.710438",
     "status": "completed"
    },
    "tags": []
   },
   "outputs": [
    {
     "data": {
      "text/plain": [
       "array([13, 11, 12, 10, 14, 24, 22, 23, 21, 20,  0,  3,  9,  2,  1,  8,  4,\n",
       "        5,  7,  6, 16, 19, 15, 17, 18])"
      ]
     },
     "execution_count": 11,
     "metadata": {},
     "output_type": "execute_result"
    }
   ],
   "source": [
    "min_loss_index_cat_32 = np.argsort(model_stats_catboost_32.validation_loss.values)\n",
    "\n",
    "min_loss_index_cat_32"
   ]
  },
  {
   "cell_type": "code",
   "execution_count": 12,
   "metadata": {
    "execution": {
     "iopub.execute_input": "2020-09-21T03:05:34.799279Z",
     "iopub.status.busy": "2020-09-21T03:05:34.798655Z",
     "iopub.status.idle": "2020-09-21T03:05:34.804229Z",
     "shell.execute_reply": "2020-09-21T03:05:34.804713Z"
    },
    "papermill": {
     "duration": 0.033129,
     "end_time": "2020-09-21T03:05:34.804842",
     "exception": false,
     "start_time": "2020-09-21T03:05:34.771713",
     "status": "completed"
    },
    "tags": []
   },
   "outputs": [
    {
     "data": {
      "text/plain": [
       "array([ 0,  2,  4,  3,  1,  6,  9,  5,  7,  8, 23, 24, 21, 20, 22, 11, 13,\n",
       "       10, 14, 12, 18, 17, 16, 19, 15])"
      ]
     },
     "execution_count": 12,
     "metadata": {},
     "output_type": "execute_result"
    }
   ],
   "source": [
    "min_loss_index_cat_432 = np.argsort(model_stats_catboost_432.validation_loss.values)\n",
    "\n",
    "min_loss_index_cat_432"
   ]
  },
  {
   "cell_type": "code",
   "execution_count": 13,
   "metadata": {
    "execution": {
     "iopub.execute_input": "2020-09-21T03:05:34.861150Z",
     "iopub.status.busy": "2020-09-21T03:05:34.860286Z",
     "iopub.status.idle": "2020-09-21T03:05:34.864732Z",
     "shell.execute_reply": "2020-09-21T03:05:34.864067Z"
    },
    "papermill": {
     "duration": 0.035417,
     "end_time": "2020-09-21T03:05:34.864873",
     "exception": false,
     "start_time": "2020-09-21T03:05:34.829456",
     "status": "completed"
    },
    "tags": []
   },
   "outputs": [
    {
     "data": {
      "text/plain": [
       "array([ 4,  2,  3,  0,  1, 17,  9,  6,  5,  8, 16,  7, 15, 18, 19, 20, 23,\n",
       "       22, 24, 21, 10, 12, 14, 13, 11])"
      ]
     },
     "execution_count": 13,
     "metadata": {},
     "output_type": "execute_result"
    }
   ],
   "source": [
    "min_loss_index_cat_73 = np.argsort(model_stats_catboost_73.validation_loss.values)\n",
    "\n",
    "min_loss_index_cat_73"
   ]
  },
  {
   "cell_type": "code",
   "execution_count": 14,
   "metadata": {
    "execution": {
     "iopub.execute_input": "2020-09-21T03:05:34.922198Z",
     "iopub.status.busy": "2020-09-21T03:05:34.921200Z",
     "iopub.status.idle": "2020-09-21T03:05:34.925980Z",
     "shell.execute_reply": "2020-09-21T03:05:34.925355Z"
    },
    "papermill": {
     "duration": 0.035678,
     "end_time": "2020-09-21T03:05:34.926088",
     "exception": false,
     "start_time": "2020-09-21T03:05:34.890410",
     "status": "completed"
    },
    "tags": []
   },
   "outputs": [
    {
     "data": {
      "text/plain": [
       "array([ 7,  8,  9,  5,  6, 10, 11, 12, 13, 14, 23, 21, 22, 20, 24, 15, 18,\n",
       "       19, 16, 17,  3,  0,  1,  2,  4])"
      ]
     },
     "execution_count": 14,
     "metadata": {},
     "output_type": "execute_result"
    }
   ],
   "source": [
    "min_loss_index_cat_1 = np.argsort(model_stats_catboost_1.validation_loss.values)\n",
    "\n",
    "min_loss_index_cat_1"
   ]
  },
  {
   "cell_type": "code",
   "execution_count": 15,
   "metadata": {
    "execution": {
     "iopub.execute_input": "2020-09-21T03:05:34.984538Z",
     "iopub.status.busy": "2020-09-21T03:05:34.983785Z",
     "iopub.status.idle": "2020-09-21T03:05:34.987932Z",
     "shell.execute_reply": "2020-09-21T03:05:34.987268Z"
    },
    "papermill": {
     "duration": 0.035637,
     "end_time": "2020-09-21T03:05:34.988040",
     "exception": false,
     "start_time": "2020-09-21T03:05:34.952403",
     "status": "completed"
    },
    "tags": []
   },
   "outputs": [
    {
     "data": {
      "text/plain": [
       "array([ 9,  5,  8,  6,  7,  0,  3,  4,  2, 20,  1, 24, 23, 21, 16, 22, 15,\n",
       "       19, 17, 18, 13, 11, 14, 12, 10])"
      ]
     },
     "execution_count": 15,
     "metadata": {},
     "output_type": "execute_result"
    }
   ],
   "source": [
    "min_loss_index_cat_2 = np.argsort(model_stats_catboost_2.validation_loss.values)\n",
    "\n",
    "min_loss_index_cat_2"
   ]
  },
  {
   "cell_type": "markdown",
   "metadata": {
    "papermill": {
     "duration": 0.025956,
     "end_time": "2020-09-21T03:05:35.039571",
     "exception": false,
     "start_time": "2020-09-21T03:05:35.013615",
     "status": "completed"
    },
    "tags": []
   },
   "source": [
    "# Get Max AUC indices"
   ]
  },
  {
   "cell_type": "code",
   "execution_count": 16,
   "metadata": {
    "execution": {
     "iopub.execute_input": "2020-09-21T03:05:35.097011Z",
     "iopub.status.busy": "2020-09-21T03:05:35.096308Z",
     "iopub.status.idle": "2020-09-21T03:05:35.100361Z",
     "shell.execute_reply": "2020-09-21T03:05:35.099703Z"
    },
    "papermill": {
     "duration": 0.034988,
     "end_time": "2020-09-21T03:05:35.100469",
     "exception": false,
     "start_time": "2020-09-21T03:05:35.065481",
     "status": "completed"
    },
    "tags": []
   },
   "outputs": [
    {
     "data": {
      "text/plain": [
       "array([11, 13, 14,  9, 12, 10,  8,  5,  6,  7, 22, 24, 23, 21, 20,  0,  3,\n",
       "        1,  2,  4, 16, 19, 18, 15, 17])"
      ]
     },
     "execution_count": 16,
     "metadata": {},
     "output_type": "execute_result"
    }
   ],
   "source": [
    "max_auc_index_catboost_32 = np.argsort(-model_stats_catboost_32.oof_roc.values)\n",
    "\n",
    "max_auc_index_catboost_32"
   ]
  },
  {
   "cell_type": "code",
   "execution_count": 17,
   "metadata": {
    "execution": {
     "iopub.execute_input": "2020-09-21T03:05:35.158942Z",
     "iopub.status.busy": "2020-09-21T03:05:35.158362Z",
     "iopub.status.idle": "2020-09-21T03:05:35.162106Z",
     "shell.execute_reply": "2020-09-21T03:05:35.161675Z"
    },
    "papermill": {
     "duration": 0.034955,
     "end_time": "2020-09-21T03:05:35.162206",
     "exception": false,
     "start_time": "2020-09-21T03:05:35.127251",
     "status": "completed"
    },
    "tags": []
   },
   "outputs": [
    {
     "data": {
      "text/plain": [
       "array([ 0,  4,  2,  3,  1,  6,  9,  8,  5,  7, 23, 24, 21, 20, 22, 10, 13,\n",
       "       11, 14, 12, 18, 16, 17, 19, 15])"
      ]
     },
     "execution_count": 17,
     "metadata": {},
     "output_type": "execute_result"
    }
   ],
   "source": [
    "max_auc_index_catboost_432 = np.argsort(-model_stats_catboost_432.oof_roc.values)\n",
    "\n",
    "max_auc_index_catboost_432"
   ]
  },
  {
   "cell_type": "code",
   "execution_count": 18,
   "metadata": {
    "execution": {
     "iopub.execute_input": "2020-09-21T03:05:35.221454Z",
     "iopub.status.busy": "2020-09-21T03:05:35.220783Z",
     "iopub.status.idle": "2020-09-21T03:05:35.223667Z",
     "shell.execute_reply": "2020-09-21T03:05:35.224185Z"
    },
    "papermill": {
     "duration": 0.035228,
     "end_time": "2020-09-21T03:05:35.224325",
     "exception": false,
     "start_time": "2020-09-21T03:05:35.189097",
     "status": "completed"
    },
    "tags": []
   },
   "outputs": [
    {
     "data": {
      "text/plain": [
       "array([ 9, 17,  6,  5,  4,  8, 16,  7,  1, 15,  3, 18,  0,  2, 19, 23, 24,\n",
       "       20, 21, 22, 10, 12, 14, 13, 11])"
      ]
     },
     "execution_count": 18,
     "metadata": {},
     "output_type": "execute_result"
    }
   ],
   "source": [
    "max_auc_index_catboost_73 = np.argsort(-model_stats_catboost_73.oof_roc.values)\n",
    "\n",
    "max_auc_index_catboost_73"
   ]
  },
  {
   "cell_type": "code",
   "execution_count": 19,
   "metadata": {
    "execution": {
     "iopub.execute_input": "2020-09-21T03:05:35.280703Z",
     "iopub.status.busy": "2020-09-21T03:05:35.280049Z",
     "iopub.status.idle": "2020-09-21T03:05:35.285441Z",
     "shell.execute_reply": "2020-09-21T03:05:35.285982Z"
    },
    "papermill": {
     "duration": 0.034992,
     "end_time": "2020-09-21T03:05:35.286180",
     "exception": false,
     "start_time": "2020-09-21T03:05:35.251188",
     "status": "completed"
    },
    "tags": []
   },
   "outputs": [
    {
     "data": {
      "text/plain": [
       "array([ 7,  9,  8,  5,  6, 21, 10, 11, 20, 23, 22, 12, 24, 13, 14, 15, 18,\n",
       "       19, 17, 16,  3,  0,  1,  2,  4])"
      ]
     },
     "execution_count": 19,
     "metadata": {},
     "output_type": "execute_result"
    }
   ],
   "source": [
    "max_auc_index_catboost_1 = np.argsort(-model_stats_catboost_1.oof_roc.values)\n",
    "\n",
    "max_auc_index_catboost_1"
   ]
  },
  {
   "cell_type": "code",
   "execution_count": 20,
   "metadata": {
    "execution": {
     "iopub.execute_input": "2020-09-21T03:05:35.345190Z",
     "iopub.status.busy": "2020-09-21T03:05:35.344547Z",
     "iopub.status.idle": "2020-09-21T03:05:35.349900Z",
     "shell.execute_reply": "2020-09-21T03:05:35.350460Z"
    },
    "papermill": {
     "duration": 0.036939,
     "end_time": "2020-09-21T03:05:35.350602",
     "exception": false,
     "start_time": "2020-09-21T03:05:35.313663",
     "status": "completed"
    },
    "tags": []
   },
   "outputs": [
    {
     "data": {
      "text/plain": [
       "array([20,  5, 24, 21,  9, 23,  8,  6, 22,  7, 17, 15, 16, 18, 19,  0,  3,\n",
       "        2,  4,  1, 13, 11, 12, 14, 10])"
      ]
     },
     "execution_count": 20,
     "metadata": {},
     "output_type": "execute_result"
    }
   ],
   "source": [
    "max_auc_index_catboost_2 = np.argsort(-model_stats_catboost_2.oof_roc.values)\n",
    "\n",
    "max_auc_index_catboost_2"
   ]
  },
  {
   "cell_type": "code",
   "execution_count": 21,
   "metadata": {
    "execution": {
     "iopub.execute_input": "2020-09-21T03:05:35.408932Z",
     "iopub.status.busy": "2020-09-21T03:05:35.408354Z",
     "iopub.status.idle": "2020-09-21T03:05:35.413822Z",
     "shell.execute_reply": "2020-09-21T03:05:35.414412Z"
    },
    "papermill": {
     "duration": 0.036731,
     "end_time": "2020-09-21T03:05:35.414549",
     "exception": false,
     "start_time": "2020-09-21T03:05:35.377818",
     "status": "completed"
    },
    "tags": []
   },
   "outputs": [
    {
     "data": {
      "text/plain": [
       "array([ 26,  27,  28,  29,  68,  25,  93,  65,  69,  30,  66,  67,  12,\n",
       "        11,   7,  14,  92,  13,  34,  94,   8,  90,  31,  33,  10,   5,\n",
       "        32,   9,   6,  91,  57,  56,  53,  58,  50,  52,  55,  54, 121,\n",
       "       120,  51,  59, 122, 124,  72, 123,  74, 106, 107,  70, 108,  71,\n",
       "        98,  87,  23, 105,  73,  89, 109,  95,  24,  86,  20,  21,  88,\n",
       "        99,  97,  22,  85,  96,   3,   4, 115,  46,   1, 119, 117,   2,\n",
       "         0,  18, 118, 116,  63,  48,  15,  45,  62,  60,  61,  47,  49,\n",
       "        16,  64,  17, 101,  19,  83, 104, 102, 103, 100,  82,  84,  80,\n",
       "        81,  78,  75,  77,  76,  79, 113, 111, 112, 114, 110,  37,  36,\n",
       "        38,  35,  39,  43,  40,  42,  41,  44])"
      ]
     },
     "execution_count": 21,
     "metadata": {},
     "output_type": "execute_result"
    }
   ],
   "source": [
    "max_auc_index_lgb = np.argsort(-model_stats_lgb.oof_roc.values)\n",
    "\n",
    "max_auc_index_lgb"
   ]
  },
  {
   "cell_type": "code",
   "execution_count": 22,
   "metadata": {
    "execution": {
     "iopub.execute_input": "2020-09-21T03:05:35.473730Z",
     "iopub.status.busy": "2020-09-21T03:05:35.473075Z",
     "iopub.status.idle": "2020-09-21T03:05:35.478453Z",
     "shell.execute_reply": "2020-09-21T03:05:35.478977Z"
    },
    "papermill": {
     "duration": 0.036308,
     "end_time": "2020-09-21T03:05:35.479106",
     "exception": false,
     "start_time": "2020-09-21T03:05:35.442798",
     "status": "completed"
    },
    "tags": []
   },
   "outputs": [
    {
     "data": {
      "text/plain": [
       "array([ 25,  28,  29,  26,  27,   9,  66,  34,  32,  65,  14,   5,   8,\n",
       "        33,   7,  67,  31,   6,  68,  69,  30,  12,  10,  94,  90,  59,\n",
       "        13,  55,  58, 121,  91,  92,  11,  56,  57, 122,  93,  50,  71,\n",
       "       120,  73,  70,  72,  51, 124,  54,  53, 123,  74,  88, 107,  89,\n",
       "         0,  52,  95, 105,  87,  85, 108,  97,  96, 106,   2,   3,   1,\n",
       "       115,  99,  21, 109,  86,  20,   4,  98,  24,  22,  23, 119, 117,\n",
       "        62, 116,  63, 118,  47,  61,  60,  49,  16,  45,  64,  17,  19,\n",
       "        15,  48,  18,  79,  46,  84,  80,  83, 104,  75, 101,  82, 103,\n",
       "       100, 102, 110,  81,  77, 111, 114,  78, 112,  76, 113,  35,  38,\n",
       "        37,  36,  39,  42,  40,  43,  44,  41])"
      ]
     },
     "execution_count": 22,
     "metadata": {},
     "output_type": "execute_result"
    }
   ],
   "source": [
    "max_accuracy_index_xgb = np.argsort(-model_stats_xgb.oof_roc.values)\n",
    "\n",
    "max_accuracy_index_xgb"
   ]
  },
  {
   "cell_type": "markdown",
   "metadata": {
    "papermill": {
     "duration": 0.028689,
     "end_time": "2020-09-21T03:05:35.536431",
     "exception": false,
     "start_time": "2020-09-21T03:05:35.507742",
     "status": "completed"
    },
    "tags": []
   },
   "source": [
    "# Ensembling based on Min Loss"
   ]
  },
  {
   "cell_type": "code",
   "execution_count": 23,
   "metadata": {
    "execution": {
     "iopub.execute_input": "2020-09-21T03:05:35.599925Z",
     "iopub.status.busy": "2020-09-21T03:05:35.599285Z",
     "iopub.status.idle": "2020-09-21T03:05:35.655564Z",
     "shell.execute_reply": "2020-09-21T03:05:35.656164Z"
    },
    "papermill": {
     "duration": 0.090795,
     "end_time": "2020-09-21T03:05:35.656331",
     "exception": false,
     "start_time": "2020-09-21T03:05:35.565536",
     "status": "completed"
    },
    "tags": []
   },
   "outputs": [],
   "source": [
    "probs_df_loss = pd.read_csv('../input/cross-sell-lightgbm/probs.csv')"
   ]
  },
  {
   "cell_type": "code",
   "execution_count": 24,
   "metadata": {
    "execution": {
     "iopub.execute_input": "2020-09-21T03:05:35.724103Z",
     "iopub.status.busy": "2020-09-21T03:05:35.723405Z",
     "iopub.status.idle": "2020-09-21T03:05:35.726031Z",
     "shell.execute_reply": "2020-09-21T03:05:35.726724Z"
    },
    "papermill": {
     "duration": 0.040466,
     "end_time": "2020-09-21T03:05:35.726861",
     "exception": false,
     "start_time": "2020-09-21T03:05:35.686395",
     "status": "completed"
    },
    "tags": []
   },
   "outputs": [],
   "source": [
    "def cal_probs_loss(model_name,model_stats_df,min_loss_idx_arr,model_iter):\n",
    "    \n",
    "    probs_cal_loss = np.zeros(shape=(127037,1))\n",
    "\n",
    "    for i,idx in enumerate(min_loss_idx_arr):\n",
    "    \n",
    "        probs_cal_loss += pd.read_csv(get_probs_file_name(model_stats_df.iloc[idx,0],model_name)).iloc[:,1:]\n",
    "    \n",
    "        if i == model_iter-1:\n",
    "        \n",
    "            break\n",
    "        \n",
    "    probs_df_loss.iloc[:,1:] = probs_cal_loss\n",
    "\n",
    "    #print(probs_df_loss.head())\n",
    "\n",
    "    return probs_cal_loss/model_iter\n",
    "    "
   ]
  },
  {
   "cell_type": "markdown",
   "metadata": {
    "papermill": {
     "duration": 0.03029,
     "end_time": "2020-09-21T03:05:35.787655",
     "exception": false,
     "start_time": "2020-09-21T03:05:35.757365",
     "status": "completed"
    },
    "tags": []
   },
   "source": [
    "# Ensembling based on Max Accuracy"
   ]
  },
  {
   "cell_type": "code",
   "execution_count": 25,
   "metadata": {
    "execution": {
     "iopub.execute_input": "2020-09-21T03:05:35.849237Z",
     "iopub.status.busy": "2020-09-21T03:05:35.848685Z",
     "iopub.status.idle": "2020-09-21T03:05:35.903077Z",
     "shell.execute_reply": "2020-09-21T03:05:35.903666Z"
    },
    "papermill": {
     "duration": 0.086795,
     "end_time": "2020-09-21T03:05:35.903810",
     "exception": false,
     "start_time": "2020-09-21T03:05:35.817015",
     "status": "completed"
    },
    "tags": []
   },
   "outputs": [],
   "source": [
    "probs_df_acc = pd.read_csv('../input/cross-sell-lightgbm/probs.csv')"
   ]
  },
  {
   "cell_type": "code",
   "execution_count": 26,
   "metadata": {
    "execution": {
     "iopub.execute_input": "2020-09-21T03:05:35.967093Z",
     "iopub.status.busy": "2020-09-21T03:05:35.966403Z",
     "iopub.status.idle": "2020-09-21T03:05:35.972587Z",
     "shell.execute_reply": "2020-09-21T03:05:35.973084Z"
    },
    "papermill": {
     "duration": 0.039915,
     "end_time": "2020-09-21T03:05:35.973225",
     "exception": false,
     "start_time": "2020-09-21T03:05:35.933310",
     "status": "completed"
    },
    "tags": []
   },
   "outputs": [],
   "source": [
    "def cal_probs_acc(model_name,model_stats_df,max_accuracy_idx_arr,model_iter):\n",
    "    \n",
    "    probs_cal_acc = np.zeros(shape=(127037,))\n",
    "\n",
    "    for i,idx in enumerate(max_accuracy_idx_arr):\n",
    "\n",
    "        probs_cal_acc += pd.read_csv(get_probs_file_name(model_stats_df.iloc[idx,0],model_name)).iloc[:,1:]\n",
    "\n",
    "        if i ==model_iter-1:\n",
    "\n",
    "            break\n",
    "\n",
    "    #print(probs_cal_acc.head())\n",
    "    \n",
    "    return probs_cal_acc/model_iter\n",
    "    "
   ]
  },
  {
   "cell_type": "code",
   "execution_count": null,
   "metadata": {
    "papermill": {
     "duration": 0.029458,
     "end_time": "2020-09-21T03:05:36.031751",
     "exception": false,
     "start_time": "2020-09-21T03:05:36.002293",
     "status": "completed"
    },
    "tags": []
   },
   "outputs": [],
   "source": []
  }
 ],
 "metadata": {
  "kernelspec": {
   "display_name": "Python 3",
   "language": "python",
   "name": "python3"
  },
  "language_info": {
   "codemirror_mode": {
    "name": "ipython",
    "version": 3
   },
   "file_extension": ".py",
   "mimetype": "text/x-python",
   "name": "python",
   "nbconvert_exporter": "python",
   "pygments_lexer": "ipython3",
   "version": "3.7.6"
  },
  "papermill": {
   "duration": 8.879978,
   "end_time": "2020-09-21T03:05:37.093569",
   "environment_variables": {},
   "exception": null,
   "input_path": "__notebook__.ipynb",
   "output_path": "__notebook__.ipynb",
   "parameters": {},
   "start_time": "2020-09-21T03:05:28.213591",
   "version": "2.1.0"
  }
 },
 "nbformat": 4,
 "nbformat_minor": 4
}
