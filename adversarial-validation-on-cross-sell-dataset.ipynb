{
 "cells": [
  {
   "cell_type": "markdown",
   "metadata": {
    "_cell_guid": "b1511075-2040-1acf-08f8-db4ab6bed4e1",
    "papermill": {
     "duration": 0.009991,
     "end_time": "2020-09-13T10:20:19.005556",
     "exception": false,
     "start_time": "2020-09-13T10:20:18.995565",
     "status": "completed"
    },
    "tags": []
   },
   "source": [
    "[Adversarial validation][1]\n",
    "\n",
    "The general idea is to check the degree of similarity between training and tests in terms of feature distribution: if they are difficult to distinguish, the distribution is probably similar and the usual validation techniques should work. It does not seem to be the case, so we can suspect they are quite different. This intuition can be quantified by combining train and test sets, assigning 0/1 labels (0 - train, 1-test) and evaluating a binary classification task.\n",
    "\n",
    "\n",
    "  [1]: http://fastml.com/adversarial-validation-part-two/"
   ]
  },
  {
   "cell_type": "code",
   "execution_count": 1,
   "metadata": {
    "_cell_guid": "bcbf5e1a-6442-47ba-5435-7053db612903",
    "execution": {
     "iopub.execute_input": "2020-09-13T10:20:19.029944Z",
     "iopub.status.busy": "2020-09-13T10:20:19.028970Z",
     "iopub.status.idle": "2020-09-13T10:20:21.067752Z",
     "shell.execute_reply": "2020-09-13T10:20:21.066790Z"
    },
    "papermill": {
     "duration": 2.053881,
     "end_time": "2020-09-13T10:20:21.067933",
     "exception": false,
     "start_time": "2020-09-13T10:20:19.014052",
     "status": "completed"
    },
    "tags": []
   },
   "outputs": [],
   "source": [
    "import pandas as pd\n",
    "import numpy as np\n",
    "from sklearn.model_selection import StratifiedShuffleSplit\n",
    "import xgboost as xgb\n",
    "from sklearn.metrics import roc_auc_score\n",
    "from sklearn.preprocessing import LabelEncoder"
   ]
  },
  {
   "cell_type": "code",
   "execution_count": 2,
   "metadata": {
    "execution": {
     "iopub.execute_input": "2020-09-13T10:20:21.103608Z",
     "iopub.status.busy": "2020-09-13T10:20:21.102829Z",
     "iopub.status.idle": "2020-09-13T10:20:22.002234Z",
     "shell.execute_reply": "2020-09-13T10:20:22.001418Z"
    },
    "papermill": {
     "duration": 0.925717,
     "end_time": "2020-09-13T10:20:22.002380",
     "exception": false,
     "start_time": "2020-09-13T10:20:21.076663",
     "status": "completed"
    },
    "tags": []
   },
   "outputs": [],
   "source": [
    "train_data = pd.read_csv('../input/avcrosssell/train.csv')\n",
    "\n",
    "train_data.drop(['id', 'Response'], axis = 1, inplace = True)\n",
    "\n",
    "test_data = pd.read_csv('../input/avcrosssell/test.csv')\n",
    "\n",
    "test_data.drop(['id'], axis = 1, inplace = True)"
   ]
  },
  {
   "cell_type": "code",
   "execution_count": 3,
   "metadata": {
    "_cell_guid": "3f4ffc92-a776-6715-b7f3-925f1547d4fc",
    "execution": {
     "iopub.execute_input": "2020-09-13T10:20:22.026056Z",
     "iopub.status.busy": "2020-09-13T10:20:22.025292Z",
     "iopub.status.idle": "2020-09-13T10:20:22.148121Z",
     "shell.execute_reply": "2020-09-13T10:20:22.147442Z"
    },
    "papermill": {
     "duration": 0.137473,
     "end_time": "2020-09-13T10:20:22.148266",
     "exception": false,
     "start_time": "2020-09-13T10:20:22.010793",
     "status": "completed"
    },
    "tags": []
   },
   "outputs": [],
   "source": [
    "train_data['istrain'] = 1\n",
    "\n",
    "test_data['istrain'] = 0\n",
    "\n",
    "combined_data = pd.concat([train_data, test_data], axis = 0)"
   ]
  },
  {
   "cell_type": "code",
   "execution_count": 4,
   "metadata": {
    "execution": {
     "iopub.execute_input": "2020-09-13T10:20:22.178514Z",
     "iopub.status.busy": "2020-09-13T10:20:22.174531Z",
     "iopub.status.idle": "2020-09-13T10:20:22.605619Z",
     "shell.execute_reply": "2020-09-13T10:20:22.604742Z"
    },
    "papermill": {
     "duration": 0.448997,
     "end_time": "2020-09-13T10:20:22.605763",
     "exception": false,
     "start_time": "2020-09-13T10:20:22.156766",
     "status": "completed"
    },
    "tags": []
   },
   "outputs": [],
   "source": [
    "df_numeric = combined_data.select_dtypes(exclude=['object'])\n",
    "\n",
    "df_obj = combined_data.select_dtypes(include=['object']).copy()\n",
    "    \n",
    "for c in df_obj:\n",
    "    df_obj[c] = pd.factorize(df_obj[c])[0]\n",
    "    \n",
    "combined_data = pd.concat([df_numeric, df_obj], axis=1)\n",
    "\n",
    "y = combined_data['istrain']\n",
    "\n",
    "combined_data.drop('istrain', axis = 1, inplace = True)\n"
   ]
  },
  {
   "cell_type": "code",
   "execution_count": 5,
   "metadata": {
    "_cell_guid": "891a4cdc-d085-b67f-45e7-dcdc3ca0f8b2",
    "execution": {
     "iopub.execute_input": "2020-09-13T10:20:22.632109Z",
     "iopub.status.busy": "2020-09-13T10:20:22.631231Z",
     "iopub.status.idle": "2020-09-13T10:20:22.634323Z",
     "shell.execute_reply": "2020-09-13T10:20:22.634882Z"
    },
    "papermill": {
     "duration": 0.020367,
     "end_time": "2020-09-13T10:20:22.635119",
     "exception": false,
     "start_time": "2020-09-13T10:20:22.614752",
     "status": "completed"
    },
    "tags": []
   },
   "outputs": [],
   "source": [
    "skf = StratifiedShuffleSplit(n_splits = 5, random_state = 44,test_size =0.3)\n",
    "xgb_params = {\n",
    "        'learning_rate': 0.1, 'max_depth': 6,'subsample': 0.9,\n",
    "        'colsample_bytree': 0.9,'objective': 'binary:logistic',\n",
    "        'n_estimators':100, 'gamma':1,\n",
    "        'min_child_weight':4\n",
    "        }   \n",
    "clf = xgb.XGBClassifier(**xgb_params, seed = 10)     "
   ]
  },
  {
   "cell_type": "code",
   "execution_count": 6,
   "metadata": {
    "_cell_guid": "223a095a-712f-fa90-707a-ea34fa091fc0",
    "execution": {
     "iopub.execute_input": "2020-09-13T10:20:22.663904Z",
     "iopub.status.busy": "2020-09-13T10:20:22.663131Z",
     "iopub.status.idle": "2020-09-13T10:21:25.583786Z",
     "shell.execute_reply": "2020-09-13T10:21:25.584645Z"
    },
    "papermill": {
     "duration": 62.94055,
     "end_time": "2020-09-13T10:21:25.584888",
     "exception": false,
     "start_time": "2020-09-13T10:20:22.644338",
     "status": "completed"
    },
    "tags": []
   },
   "outputs": [
    {
     "name": "stdout",
     "output_type": "stream",
     "text": [
      "(355702, 10)\n",
      "0.503986069188344\n",
      "(355702, 10)\n",
      "0.5006887922635195\n",
      "(355702, 10)\n",
      "0.5011125252972082\n",
      "(355702, 10)\n",
      "0.5029997737408884\n",
      "(355702, 10)\n",
      "0.5013924780001404\n"
     ]
    }
   ],
   "source": [
    "for train_index, test_index in skf.split(combined_data, y):\n",
    "       \n",
    "        x0, x1 = combined_data.iloc[train_index], combined_data.iloc[test_index]\n",
    "        \n",
    "        y0, y1 = y.iloc[train_index], y.iloc[test_index]        \n",
    "        \n",
    "        print(x0.shape)\n",
    "        \n",
    "        clf.fit(x0, y0, eval_set=[(x1, y1)],\n",
    "               eval_metric='logloss', verbose=False,early_stopping_rounds=10)\n",
    "                \n",
    "        prval = clf.predict_proba(x1)[:,1]\n",
    "        \n",
    "        print(roc_auc_score(y1,prval))"
   ]
  },
  {
   "cell_type": "markdown",
   "metadata": {
    "_cell_guid": "394561c3-a9d5-d3ad-31a0-801a8e7e2c42",
    "papermill": {
     "duration": 0.015514,
     "end_time": "2020-09-13T10:21:25.616562",
     "exception": false,
     "start_time": "2020-09-13T10:21:25.601048",
     "status": "completed"
    },
    "tags": []
   },
   "source": [
    "As we can see, the separation is almost indistiguishable. Train and Test set must come from similar distribution and normal validation techniques should work"
   ]
  },
  {
   "cell_type": "code",
   "execution_count": null,
   "metadata": {
    "papermill": {
     "duration": 0.017778,
     "end_time": "2020-09-13T10:21:25.650276",
     "exception": false,
     "start_time": "2020-09-13T10:21:25.632498",
     "status": "completed"
    },
    "tags": []
   },
   "outputs": [],
   "source": []
  }
 ],
 "metadata": {
  "kernelspec": {
   "display_name": "Python 3",
   "language": "python",
   "name": "python3"
  },
  "language_info": {
   "codemirror_mode": {
    "name": "ipython",
    "version": 3
   },
   "file_extension": ".py",
   "mimetype": "text/x-python",
   "name": "python",
   "nbconvert_exporter": "python",
   "pygments_lexer": "ipython3",
   "version": "3.7.6"
  },
  "papermill": {
   "duration": 71.812724,
   "end_time": "2020-09-13T10:21:25.777616",
   "environment_variables": {},
   "exception": null,
   "input_path": "__notebook__.ipynb",
   "output_path": "__notebook__.ipynb",
   "parameters": {},
   "start_time": "2020-09-13T10:20:13.964892",
   "version": "2.1.0"
  }
 },
 "nbformat": 4,
 "nbformat_minor": 4
}
